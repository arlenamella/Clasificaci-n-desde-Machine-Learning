{
 "cells": [
  {
   "cell_type": "markdown",
   "id": "a9f7e2df-8f89-4584-8635-42107343af98",
   "metadata": {},
   "source": [
    "Clasificación desde la Econometría"
   ]
  },
  {
   "cell_type": "code",
   "execution_count": 1,
   "id": "f0361e59-9239-4a52-98b2-a2dc2b83cda5",
   "metadata": {},
   "outputs": [],
   "source": [
    "# Importamos la triada clásica\n",
    "import numpy as np\n",
    "import pandas as pd\n",
    "import matplotlib.pyplot as plt\n",
    "%matplotlib inline\n",
    "# seaborn\n",
    "import seaborn as sns\n",
    "# scipy stats para simular\n",
    "import scipy.stats as stats\n",
    "# statsmodels para modelación\n",
    "import statsmodels.api as sm\n",
    "import statsmodels.formula.api as smf\n",
    "import warnings\n",
    "warnings.filterwarnings(\"ignore\")\n",
    "import lec6_graphs as gfx\n",
    "plt.style.use('seaborn') # Gráficos estilo seaborn\n",
    "# plt.rcParams[\"figure.figsize\"] = (6, 3) # Tamaño gráficos\n",
    "# plt.rcParams[\"figure.dpi\"] = 200 # resolución gráficos\n"
   ]
  },
  {
   "cell_type": "code",
   "execution_count": 3,
   "id": "6c979efa-c896-4e42-b1b9-08e3c1bb5dab",
   "metadata": {},
   "outputs": [],
   "source": [
    "# ingresamos la base de datos\n",
    "df = pd.read_csv('wells.csv')\n",
    "# La base de datos incluye una columna de índice. Eliminemosla para evitar futuros conflictos\n",
    "df = df.drop(\"index\", axis =1)"
   ]
  },
  {
   "cell_type": "code",
   "execution_count": 4,
   "id": "aaf22f0f-6862-43e1-83a8-910392487869",
   "metadata": {},
   "outputs": [
    {
     "name": "stdout",
     "output_type": "stream",
     "text": [
      "La base de datos tiene  3020 observaciones y  5  columnas\n",
      "Las variables de la base de datos son  Index(['y', 'dist100', 'arsenic', 'educ4', 'assoc'], dtype='object')\n"
     ]
    }
   ],
   "source": [
    "print(\"La base de datos tiene \", df.shape[0], \"observaciones y \",df.shape[1], \" columnas\")\n",
    "print(\"Las variables de la base de datos son \", df.columns)\n"
   ]
  },
  {
   "cell_type": "code",
   "execution_count": 5,
   "id": "e309df7e-7632-487c-8127-9a109026167a",
   "metadata": {},
   "outputs": [
    {
     "name": "stdout",
     "output_type": "stream",
     "text": [
      "1    0.575166\n",
      "0    0.424834\n",
      "Name: y, dtype: float64 \n",
      "\n",
      "count    3020.000000\n",
      "mean        0.483319\n",
      "std         0.384787\n",
      "min         0.003870\n",
      "25%         0.211172\n",
      "50%         0.367615\n",
      "75%         0.640410\n",
      "max         3.395310\n",
      "Name: dist100, dtype: float64 \n",
      "\n",
      "count    3020.000000\n",
      "mean        1.656930\n",
      "std         1.107387\n",
      "min         0.510000\n",
      "25%         0.820000\n",
      "50%         1.300000\n",
      "75%         2.200000\n",
      "max         9.650000\n",
      "Name: arsenic, dtype: float64 \n",
      "\n",
      "count    3020.000000\n",
      "mean        1.207119\n",
      "std         1.004329\n",
      "min         0.000000\n",
      "25%         0.000000\n",
      "50%         1.250000\n",
      "75%         2.000000\n",
      "max         4.250000\n",
      "Name: educ4, dtype: float64 \n",
      "\n",
      "0    0.577152\n",
      "1    0.422848\n",
      "Name: assoc, dtype: float64 \n",
      "\n"
     ]
    }
   ],
   "source": [
    "for i in df:\n",
    "    if len(df[i].value_counts()) > 2:\n",
    "        print(df[i].describe(), \"\\n\")\n",
    "    else:\n",
    "        print(df[i].value_counts('%'), \"\\n\")"
   ]
  },
  {
   "cell_type": "code",
   "execution_count": 6,
   "id": "89fb576a-8a8a-4475-94a1-5ffdcd59f9d8",
   "metadata": {},
   "outputs": [
    {
     "data": {
      "text/html": [
       "<div>\n",
       "<style scoped>\n",
       "    .dataframe tbody tr th:only-of-type {\n",
       "        vertical-align: middle;\n",
       "    }\n",
       "\n",
       "    .dataframe tbody tr th {\n",
       "        vertical-align: top;\n",
       "    }\n",
       "\n",
       "    .dataframe thead th {\n",
       "        text-align: right;\n",
       "    }\n",
       "</style>\n",
       "<table border=\"1\" class=\"dataframe\">\n",
       "  <thead>\n",
       "    <tr style=\"text-align: right;\">\n",
       "      <th></th>\n",
       "      <th>y</th>\n",
       "      <th>dist100</th>\n",
       "      <th>arsenic</th>\n",
       "      <th>educ4</th>\n",
       "      <th>assoc</th>\n",
       "    </tr>\n",
       "  </thead>\n",
       "  <tbody>\n",
       "    <tr>\n",
       "      <th>count</th>\n",
       "      <td>3020.000000</td>\n",
       "      <td>3020.000000</td>\n",
       "      <td>3020.000000</td>\n",
       "      <td>3020.000000</td>\n",
       "      <td>3020.000000</td>\n",
       "    </tr>\n",
       "    <tr>\n",
       "      <th>mean</th>\n",
       "      <td>0.575166</td>\n",
       "      <td>0.483319</td>\n",
       "      <td>1.656930</td>\n",
       "      <td>1.207119</td>\n",
       "      <td>0.422848</td>\n",
       "    </tr>\n",
       "    <tr>\n",
       "      <th>std</th>\n",
       "      <td>0.494400</td>\n",
       "      <td>0.384787</td>\n",
       "      <td>1.107387</td>\n",
       "      <td>1.004329</td>\n",
       "      <td>0.494093</td>\n",
       "    </tr>\n",
       "    <tr>\n",
       "      <th>min</th>\n",
       "      <td>0.000000</td>\n",
       "      <td>0.003870</td>\n",
       "      <td>0.510000</td>\n",
       "      <td>0.000000</td>\n",
       "      <td>0.000000</td>\n",
       "    </tr>\n",
       "    <tr>\n",
       "      <th>25%</th>\n",
       "      <td>0.000000</td>\n",
       "      <td>0.211172</td>\n",
       "      <td>0.820000</td>\n",
       "      <td>0.000000</td>\n",
       "      <td>0.000000</td>\n",
       "    </tr>\n",
       "    <tr>\n",
       "      <th>50%</th>\n",
       "      <td>1.000000</td>\n",
       "      <td>0.367615</td>\n",
       "      <td>1.300000</td>\n",
       "      <td>1.250000</td>\n",
       "      <td>0.000000</td>\n",
       "    </tr>\n",
       "    <tr>\n",
       "      <th>75%</th>\n",
       "      <td>1.000000</td>\n",
       "      <td>0.640410</td>\n",
       "      <td>2.200000</td>\n",
       "      <td>2.000000</td>\n",
       "      <td>1.000000</td>\n",
       "    </tr>\n",
       "    <tr>\n",
       "      <th>max</th>\n",
       "      <td>1.000000</td>\n",
       "      <td>3.395310</td>\n",
       "      <td>9.650000</td>\n",
       "      <td>4.250000</td>\n",
       "      <td>1.000000</td>\n",
       "    </tr>\n",
       "  </tbody>\n",
       "</table>\n",
       "</div>"
      ],
      "text/plain": [
       "                 y      dist100      arsenic        educ4        assoc\n",
       "count  3020.000000  3020.000000  3020.000000  3020.000000  3020.000000\n",
       "mean      0.575166     0.483319     1.656930     1.207119     0.422848\n",
       "std       0.494400     0.384787     1.107387     1.004329     0.494093\n",
       "min       0.000000     0.003870     0.510000     0.000000     0.000000\n",
       "25%       0.000000     0.211172     0.820000     0.000000     0.000000\n",
       "50%       1.000000     0.367615     1.300000     1.250000     0.000000\n",
       "75%       1.000000     0.640410     2.200000     2.000000     1.000000\n",
       "max       1.000000     3.395310     9.650000     4.250000     1.000000"
      ]
     },
     "execution_count": 6,
     "metadata": {},
     "output_type": "execute_result"
    }
   ],
   "source": [
    "df.describe()"
   ]
  },
  {
   "cell_type": "code",
   "execution_count": 7,
   "id": "5df1e9f0-6c14-4d47-9b07-083393a1d94f",
   "metadata": {},
   "outputs": [],
   "source": [
    "def calidad_datos(data):\n",
    "    tipos = pd.DataFrame({'tipo': data.dtypes},index=data.columns)\n",
    "    na = pd.DataFrame({'nulos': data.isna().sum()}, index=data.columns)\n",
    "    na_prop = pd.DataFrame({'porc_nulos':data.isna().sum()/data.shape[0]}, index=data.columns)\n",
    "    ceros = pd.DataFrame({'ceros':[data.loc[data[col]==0,col].shape[0] for col in data.columns]}, index= data.columns)\n",
    "    ceros_prop = pd.DataFrame({'porc_ceros':[data.loc[data[col]==0,col].shape[0]/data.shape[0] for col in data.columns]}, index= data.columns)\n",
    "    summary = data.describe(include='all').T\n",
    "    summary['limit_inf'] = summary['mean'] - summary['std']*1.5\n",
    "    summary['limit_sup'] = summary['mean'] + summary['std']*1.5\n",
    "    summary['outliers'] = data.apply(lambda x: sum(np.where((x<summary['limit_inf'][x.name]) | (x>summary['limit_sup'][x.name]),1 ,0))if x.name in summary['limit_inf'].dropna().index else 0)\n",
    "    return pd.concat([tipos, na, na_prop, ceros, ceros_prop, summary], axis=1).sort_values('tipo')"
   ]
  },
  {
   "cell_type": "code",
   "execution_count": 8,
   "id": "7c82f8d5-ab79-475b-9bea-87a9b5e11c12",
   "metadata": {},
   "outputs": [
    {
     "data": {
      "text/html": [
       "<div>\n",
       "<style scoped>\n",
       "    .dataframe tbody tr th:only-of-type {\n",
       "        vertical-align: middle;\n",
       "    }\n",
       "\n",
       "    .dataframe tbody tr th {\n",
       "        vertical-align: top;\n",
       "    }\n",
       "\n",
       "    .dataframe thead th {\n",
       "        text-align: right;\n",
       "    }\n",
       "</style>\n",
       "<table border=\"1\" class=\"dataframe\">\n",
       "  <thead>\n",
       "    <tr style=\"text-align: right;\">\n",
       "      <th></th>\n",
       "      <th>tipo</th>\n",
       "      <th>nulos</th>\n",
       "      <th>porc_nulos</th>\n",
       "      <th>ceros</th>\n",
       "      <th>porc_ceros</th>\n",
       "      <th>count</th>\n",
       "      <th>mean</th>\n",
       "      <th>std</th>\n",
       "      <th>min</th>\n",
       "      <th>25%</th>\n",
       "      <th>50%</th>\n",
       "      <th>75%</th>\n",
       "      <th>max</th>\n",
       "      <th>limit_inf</th>\n",
       "      <th>limit_sup</th>\n",
       "      <th>outliers</th>\n",
       "    </tr>\n",
       "  </thead>\n",
       "  <tbody>\n",
       "    <tr>\n",
       "      <th>y</th>\n",
       "      <td>int64</td>\n",
       "      <td>0</td>\n",
       "      <td>0.0</td>\n",
       "      <td>1283</td>\n",
       "      <td>0.424834</td>\n",
       "      <td>3020.0</td>\n",
       "      <td>0.575166</td>\n",
       "      <td>0.494400</td>\n",
       "      <td>0.00000</td>\n",
       "      <td>0.000000</td>\n",
       "      <td>1.000000</td>\n",
       "      <td>1.00000</td>\n",
       "      <td>1.00000</td>\n",
       "      <td>-0.166434</td>\n",
       "      <td>1.316765</td>\n",
       "      <td>0</td>\n",
       "    </tr>\n",
       "    <tr>\n",
       "      <th>assoc</th>\n",
       "      <td>int64</td>\n",
       "      <td>0</td>\n",
       "      <td>0.0</td>\n",
       "      <td>1743</td>\n",
       "      <td>0.577152</td>\n",
       "      <td>3020.0</td>\n",
       "      <td>0.422848</td>\n",
       "      <td>0.494093</td>\n",
       "      <td>0.00000</td>\n",
       "      <td>0.000000</td>\n",
       "      <td>0.000000</td>\n",
       "      <td>1.00000</td>\n",
       "      <td>1.00000</td>\n",
       "      <td>-0.318293</td>\n",
       "      <td>1.163988</td>\n",
       "      <td>0</td>\n",
       "    </tr>\n",
       "    <tr>\n",
       "      <th>dist100</th>\n",
       "      <td>float64</td>\n",
       "      <td>0</td>\n",
       "      <td>0.0</td>\n",
       "      <td>0</td>\n",
       "      <td>0.000000</td>\n",
       "      <td>3020.0</td>\n",
       "      <td>0.483319</td>\n",
       "      <td>0.384787</td>\n",
       "      <td>0.00387</td>\n",
       "      <td>0.211172</td>\n",
       "      <td>0.367615</td>\n",
       "      <td>0.64041</td>\n",
       "      <td>3.39531</td>\n",
       "      <td>-0.093861</td>\n",
       "      <td>1.060499</td>\n",
       "      <td>272</td>\n",
       "    </tr>\n",
       "    <tr>\n",
       "      <th>arsenic</th>\n",
       "      <td>float64</td>\n",
       "      <td>0</td>\n",
       "      <td>0.0</td>\n",
       "      <td>0</td>\n",
       "      <td>0.000000</td>\n",
       "      <td>3020.0</td>\n",
       "      <td>1.656930</td>\n",
       "      <td>1.107387</td>\n",
       "      <td>0.51000</td>\n",
       "      <td>0.820000</td>\n",
       "      <td>1.300000</td>\n",
       "      <td>2.20000</td>\n",
       "      <td>9.65000</td>\n",
       "      <td>-0.004150</td>\n",
       "      <td>3.318011</td>\n",
       "      <td>262</td>\n",
       "    </tr>\n",
       "    <tr>\n",
       "      <th>educ4</th>\n",
       "      <td>float64</td>\n",
       "      <td>0</td>\n",
       "      <td>0.0</td>\n",
       "      <td>889</td>\n",
       "      <td>0.294371</td>\n",
       "      <td>3020.0</td>\n",
       "      <td>1.207119</td>\n",
       "      <td>1.004329</td>\n",
       "      <td>0.00000</td>\n",
       "      <td>0.000000</td>\n",
       "      <td>1.250000</td>\n",
       "      <td>2.00000</td>\n",
       "      <td>4.25000</td>\n",
       "      <td>-0.299375</td>\n",
       "      <td>2.713613</td>\n",
       "      <td>243</td>\n",
       "    </tr>\n",
       "  </tbody>\n",
       "</table>\n",
       "</div>"
      ],
      "text/plain": [
       "            tipo  nulos  porc_nulos  ceros  porc_ceros   count      mean  \\\n",
       "y          int64      0         0.0   1283    0.424834  3020.0  0.575166   \n",
       "assoc      int64      0         0.0   1743    0.577152  3020.0  0.422848   \n",
       "dist100  float64      0         0.0      0    0.000000  3020.0  0.483319   \n",
       "arsenic  float64      0         0.0      0    0.000000  3020.0  1.656930   \n",
       "educ4    float64      0         0.0    889    0.294371  3020.0  1.207119   \n",
       "\n",
       "              std      min       25%       50%      75%      max  limit_inf  \\\n",
       "y        0.494400  0.00000  0.000000  1.000000  1.00000  1.00000  -0.166434   \n",
       "assoc    0.494093  0.00000  0.000000  0.000000  1.00000  1.00000  -0.318293   \n",
       "dist100  0.384787  0.00387  0.211172  0.367615  0.64041  3.39531  -0.093861   \n",
       "arsenic  1.107387  0.51000  0.820000  1.300000  2.20000  9.65000  -0.004150   \n",
       "educ4    1.004329  0.00000  0.000000  1.250000  2.00000  4.25000  -0.299375   \n",
       "\n",
       "         limit_sup  outliers  \n",
       "y         1.316765         0  \n",
       "assoc     1.163988         0  \n",
       "dist100   1.060499       272  \n",
       "arsenic   3.318011       262  \n",
       "educ4     2.713613       243  "
      ]
     },
     "execution_count": 8,
     "metadata": {},
     "output_type": "execute_result"
    }
   ],
   "source": [
    "calidad_datos(df)"
   ]
  },
  {
   "cell_type": "code",
   "execution_count": 9,
   "id": "02d48595-ace1-41db-9dd0-f171df9e2a7f",
   "metadata": {},
   "outputs": [
    {
     "data": {
      "image/png": "[encoded data removed]",
      "text/plain": [
       "<Figure size 576x396 with 6 Axes>"
      ]
     },
     "metadata": {},
     "output_type": "display_data"
    }
   ],
   "source": [
    "for n, i in enumerate(df):\n",
    "    plt.subplot(2, 3, n+1)\n",
    "    if len(df[i].value_counts()) > 2:\n",
    "        sns.distplot(df[i])\n",
    "        plt.title(i)\n",
    "        plt.xlabel(\"\")\n",
    "    else:\n",
    "        sns.countplot(y=df[i])\n",
    "        plt.title(i)\n",
    "        plt.xlabel(\"\")\n",
    "        plt.tight_layout()\n",
    "\n",
    "sns.heatmap(df.corr(), cmap='Blues', annot=True);"
   ]
  },
  {
   "cell_type": "code",
   "execution_count": 10,
   "id": "45c0a3c3-1f30-40c1-bab3-8a27e9726835",
   "metadata": {},
   "outputs": [],
   "source": [
    "# ejecutemos nuestro modelo\n",
    "m1_ols = smf.ols('y ~ dist100', df).fit()"
   ]
  },
  {
   "cell_type": "code",
   "execution_count": 11,
   "id": "01c7a4df-c543-469a-a0e6-ff86ef350e39",
   "metadata": {},
   "outputs": [
    {
     "name": "stdout",
     "output_type": "stream",
     "text": [
      "\n",
      "Goodness of Fit statistics\n",
      "             Statistics      Value\n",
      "2                 BIC:  4288.4686\n",
      "3      Log-Likelihood:    -2136.2\n",
      "4         F-statistic:      42.57\n",
      "5  Prob (F-statistic):   7.95e-11\n",
      "6               Scale:    0.24111\n",
      "\n",
      "Point Estimates\n",
      "\n",
      "               Coef.  Std.Err.\n",
      "Intercept  0.648407  0.014347\n",
      "dist100   -0.151539  0.023225\n"
     ]
    }
   ],
   "source": [
    "def concise_summary(mod, print_fit=True):\n",
    "#guardamos los parámetros asociados a estadísticas de ajuste\n",
    "    fit = pd.DataFrame({'Statistics': mod.summary2().tables[0][2][2:],'Value': mod.summary2().tables[0][3][2:]})\n",
    "# guardamos los parámetros estimados por cada regresor.\n",
    "    estimates = pd.DataFrame(mod.summary2().tables[1].loc[:, 'Coef.':'Std.Err.'])\n",
    "# imprimir fit es opcional\n",
    "    if print_fit is True:\n",
    "        print(\"\\nGoodness of Fit statistics\\n\", fit)\n",
    "        print(\"\\nPoint Estimates\\n\\n\", estimates)\n",
    "# solicitemos las características del modelo\n",
    "concise_summary(m1_ols)"
   ]
  },
  {
   "cell_type": "code",
   "execution_count": 12,
   "id": "f909ca62-47f4-41fd-98a2-9976631ec9f1",
   "metadata": {},
   "outputs": [
    {
     "data": {
      "image/png": "[encoded data removed]",
      "text/plain": [
       "<Figure size 360x360 with 1 Axes>"
      ]
     },
     "metadata": {},
     "output_type": "display_data"
    }
   ],
   "source": [
    "sns.lmplot('dist100','y', df, line_kws={'color':'tomato'},scatter_kws={'color': 'grey', 'alpha': .5});\n"
   ]
  },
  {
   "cell_type": "code",
   "execution_count": 13,
   "id": "b8496120-109e-48dd-b0db-7c14dd5318bd",
   "metadata": {},
   "outputs": [
    {
     "name": "stdout",
     "output_type": "stream",
     "text": [
      "Optimization terminated successfully.\n",
      "         Current function value: 0.674874\n",
      "         Iterations 4\n",
      "\n",
      "Goodness of Fit statistics\n",
      "         Statistics       Value\n",
      "2             BIC:   4092.2639\n",
      "3  Log-Likelihood:     -2038.1\n",
      "4         LL-Null:     -2059.0\n",
      "5     LLR p-value:  9.7978e-11\n",
      "6           Scale:      1.0000\n",
      "7                             \n",
      "\n",
      "Point Estimates\n",
      "\n",
      "               Coef.  Std.Err.\n",
      "Intercept  0.605959  0.060310\n",
      "dist100   -0.621882  0.097426\n"
     ]
    }
   ],
   "source": [
    "m1_logit = smf.logit('y ~ dist100', df).fit()\n",
    "concise_summary(m1_logit)"
   ]
  },
  {
   "cell_type": "code",
   "execution_count": 14,
   "id": "aa8b6390-3576-4263-8139-29af0800f0c4",
   "metadata": {},
   "outputs": [
    {
     "name": "stdout",
     "output_type": "stream",
     "text": [
      "La media es de  0.48\n",
      "El log odds estimado es de  0.31\n"
     ]
    }
   ],
   "source": [
    "# guardamos la media en un objeto\n",
    "dist100_mean = df['dist100'].mean()\n",
    "print(\"La media es de \", round(dist100_mean, 2))\n",
    "# accedemos a los parámetros con la sintáxis modelo.params['parametro]\n",
    "estimate_y = m1_logit.params['Intercept'] + (m1_logit.params['dist100']* dist100_mean)\n",
    "print(\"El log odds estimado es de \", round(estimate_y, 2))"
   ]
  },
  {
   "cell_type": "code",
   "execution_count": 16,
   "id": "dae51e1b-7aca-4a45-933c-7921fcac1aaa",
   "metadata": {},
   "outputs": [
    {
     "name": "stdout",
     "output_type": "stream",
     "text": [
      "La probabilidad promedio de cambiarse de pozo cuando tenemos una distancia de 48 metros es:  0.58\n"
     ]
    }
   ],
   "source": [
    "def invlogit(x):\n",
    "    return 1 / (1+np.exp(-x))\n",
    "print(\"La probabilidad promedio de cambiarse de pozo cuando tenemos una distancia de 48 metros es: \", round(invlogit(estimate_y), 2))\n"
   ]
  },
  {
   "cell_type": "code",
   "execution_count": 17,
   "id": "0b07fc50-1968-4233-ae76-cb762b6d4a35",
   "metadata": {},
   "outputs": [],
   "source": [
    "pr_dist_100 = invlogit(m1_logit.params['Intercept'] +(m1_logit.params['dist100'] * 1))\n",
    "pr_dist_200 = invlogit(m1_logit.params['Intercept'] +(m1_logit.params['dist100'] * 2))\n",
    "pr_dist_300 = invlogit(m1_logit.params['Intercept'] +(m1_logit.params['dist100'] * 3))\n",
    "pr_dist_400 = invlogit(m1_logit.params['Intercept'] +(m1_logit.params['dist100'] * 4))"
   ]
  },
  {
   "cell_type": "code",
   "execution_count": 18,
   "id": "73ef77da-6ea1-4b3d-8e1e-6607a8360ad3",
   "metadata": {},
   "outputs": [
    {
     "name": "stdout",
     "output_type": "stream",
     "text": [
      "La probabilidad de cambiar de pozo entre 100 y 200 metros:  0.15\n",
      "La probabilidad de cambiar de pozo entre 200 y 300 metros:  0.125\n",
      "La probabilidad de cambiar de pozo entre 300 y 400 metros:  0.089\n"
     ]
    }
   ],
   "source": [
    "print(\"La probabilidad de cambiar de pozo entre 100 y 200 metros: \",\n",
    "round(pr_dist_100 - pr_dist_200, 3))\n",
    "print(\"La probabilidad de cambiar de pozo entre 200 y 300 metros: \",\n",
    "round(pr_dist_200 - pr_dist_300, 3))\n",
    "print(\"La probabilidad de cambiar de pozo entre 300 y 400 metros: \",\n",
    "round(pr_dist_300 - pr_dist_400, 3))\n"
   ]
  },
  {
   "cell_type": "code",
   "execution_count": 19,
   "id": "085b1b7c-1f46-4c24-8a71-fccbd1f7b38b",
   "metadata": {},
   "outputs": [
    {
     "data": {
      "text/plain": [
       "<seaborn.axisgrid.FacetGrid at 0x1595e3e3ca0>"
      ]
     },
     "execution_count": 19,
     "metadata": {},
     "output_type": "execute_result"
    },
    {
     "data": {
      "image/png": "[encoded data removed]",
      "text/plain": [
       "<Figure size 360x360 with 1 Axes>"
      ]
     },
     "metadata": {},
     "output_type": "display_data"
    }
   ],
   "source": [
    "sns.lmplot('dist100', 'y', df, logistic=True, line_kws={'color':'tomato', 'lw': 3},scatter_kws={'color': 'lightgrey', 'alpha': .5})"
   ]
  },
  {
   "cell_type": "code",
   "execution_count": 32,
   "id": "ef9fa0ef-3670-41fd-adfb-02993287970a",
   "metadata": {},
   "outputs": [
    {
     "name": "stdout",
     "output_type": "stream",
     "text": [
      "Una observación tiene igual probabilidad en ambos sucesos cuando x =  0.974\n"
     ]
    },
    {
     "data": {
      "image/png": "[encoded data removed]",
      "text/plain": [
       "<Figure size 360x360 with 1 Axes>"
      ]
     },
     "metadata": {},
     "output_type": "display_data"
    }
   ],
   "source": [
    "sns.lmplot('dist100', 'y', df, logistic=True, line_kws={'color':'tomato', 'lw': 3},scatter_kws={'color': 'lightgrey', 'alpha': .5})\n",
    "decision_boundary = - m1_logit.params['Intercept'] /m1_logit.params['dist100']\n",
    "plt.axvline(decision_boundary, lw=1, color='dodgerblue')\n",
    "plt.axhline(.5, linestyle='--', color='grey', lw=1)\n",
    "plt.text(decision_boundary+.2, .5+.05, r'Caso donde $\\hat{p}=.5$', color='forestgreen')\n",
    "plt.plot(decision_boundary, .5, 'o', color='forestgreen')\n",
    "print(\"Una observación tiene igual probabilidad en ambos sucesos cuando x = \", round(decision_boundary, 3));"
   ]
  },
  {
   "cell_type": "code",
   "execution_count": 36,
   "id": "dd8eb0c6-0c8c-4a05-aa00-b71dbf466364",
   "metadata": {},
   "outputs": [
    {
     "name": "stdout",
     "output_type": "stream",
     "text": [
      "Optimization terminated successfully.\n",
      "         Current function value: 0.674874\n",
      "         Iterations 4\n"
     ]
    },
    {
     "data": {
      "text/plain": [
       "array([0.57626419])"
      ]
     },
     "execution_count": 36,
     "metadata": {},
     "output_type": "execute_result"
    }
   ],
   "source": [
    "from statsmodels.discrete.discrete_model import Logit\n",
    "\n",
    "df['intercept'] = 1\n",
    "logit1 = Logit(df['y'], df.loc[:,['dist100', 'intercept']]).fit()\n",
    "logit1.summary() \n",
    "\n",
    "logit1.predict([0.48,1])\n"
   ]
  },
  {
   "cell_type": "code",
   "execution_count": 37,
   "id": "ed20a208-b577-40a7-8813-7f67503b65c3",
   "metadata": {},
   "outputs": [
    {
     "name": "stdout",
     "output_type": "stream",
     "text": [
      "\n",
      "OLS\n",
      "\n",
      "Logit\n"
     ]
    }
   ],
   "source": [
    "print(\"\\nOLS\")\n",
    "concise_summary(m1_ols, print_fit=False)\n",
    "print(\"\\nLogit\")\n",
    "concise_summary(m1_logit, print_fit=False)"
   ]
  },
  {
   "cell_type": "code",
   "execution_count": 26,
   "id": "74bccf91-57ef-492c-ad54-1d0bb21a9766",
   "metadata": {},
   "outputs": [
    {
     "name": "stdout",
     "output_type": "stream",
     "text": [
      "La probabilidad de cambiar de pozo entre 100 y 200 metros:  0.15\n"
     ]
    }
   ],
   "source": [
    "print(\"La probabilidad de cambiar de pozo entre 100 y 200 metros: \",\n",
    "round(pr_dist_100 - pr_dist_200, 3))\n"
   ]
  },
  {
   "cell_type": "code",
   "execution_count": 27,
   "id": "d8e926db-e8b3-4d01-930d-1e298bae8b49",
   "metadata": {},
   "outputs": [],
   "source": [
    "from sklearn.linear_model import LogisticRegression\n",
    "from sklearn.model_selection import train_test_split\n",
    "\n",
    "X_train, X_test, y_train, y_test = train_test_split(df.loc[:,'dist100':'assoc'],df['y'],test_size=.33,random_state=11238)"
   ]
  },
  {
   "cell_type": "code",
   "execution_count": 28,
   "id": "b5e5ac7d-5d37-4b1a-81fe-0660ecc30b4e",
   "metadata": {},
   "outputs": [],
   "source": [
    "from sklearn.preprocessing import StandardScaler\n",
    "# estandarizamos la matriz de entrenamiento\n",
    "X_train_std = StandardScaler().fit_transform(X_train)\n",
    "# estandarizamos la matriz de pruebas\n",
    "X_test_std = StandardScaler().fit_transform(X_test)\n",
    "# iniciamos el modelo con la clase LogisticRegression y pasamos losdatos en fit.\n"
   ]
  },
  {
   "cell_type": "code",
   "execution_count": 29,
   "id": "39df3238-70dd-404d-9e7a-c49889ac019e",
   "metadata": {},
   "outputs": [],
   "source": [
    "default_model = LogisticRegression().fit(X_train_std, y_train)"
   ]
  },
  {
   "cell_type": "code",
   "execution_count": 30,
   "id": "b5f56775-28ce-4a49-a79f-13f0d01eff2d",
   "metadata": {},
   "outputs": [
    {
     "data": {
      "text/plain": [
       "array([[-0.33266754,  0.5907759 ,  0.14256382, -0.05195545]])"
      ]
     },
     "execution_count": 30,
     "metadata": {},
     "output_type": "execute_result"
    }
   ],
   "source": [
    "default_model.coef_"
   ]
  },
  {
   "cell_type": "code",
   "execution_count": 31,
   "id": "49c3df15-e96a-4b43-912e-1d5fda1f60a1",
   "metadata": {},
   "outputs": [
    {
     "data": {
      "text/plain": [
       "array([0, 1, 1, 0, 1, 1, 1, 1, 1, 1, 1, 1, 1, 0, 0, 0, 0, 1, 1, 1],\n",
       "      dtype=int64)"
      ]
     },
     "execution_count": 31,
     "metadata": {},
     "output_type": "execute_result"
    }
   ],
   "source": [
    "yhat = default_model.predict(X_test_std)\n",
    "# solicitemos las primeras 20 observaciones del vector predicho.\n",
    "yhat[:20]\n"
   ]
  },
  {
   "cell_type": "code",
   "execution_count": null,
   "id": "517137dc-73fc-4649-931b-aecf65ee7ded",
   "metadata": {},
   "outputs": [],
   "source": []
  }
 ],
 "metadata": {
  "kernelspec": {
   "display_name": "Python 3 (ipykernel)",
   "language": "python",
   "name": "python3"
  },
  "language_info": {
   "codemirror_mode": {
    "name": "ipython",
    "version": 3
   },
   "file_extension": ".py",
   "mimetype": "text/x-python",
   "name": "python",
   "nbconvert_exporter": "python",
   "pygments_lexer": "ipython3",
   "version": "3.9.12"
  }
 },
 "nbformat": 4,
 "nbformat_minor": 5
}
